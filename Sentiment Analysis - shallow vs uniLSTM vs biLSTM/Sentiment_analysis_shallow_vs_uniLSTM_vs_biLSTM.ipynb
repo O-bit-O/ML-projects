{
  "nbformat": 4,
  "nbformat_minor": 0,
  "metadata": {
    "colab": {
      "provenance": [],
      "gpuType": "T4",
      "include_colab_link": true
    },
    "kernelspec": {
      "name": "python3",
      "display_name": "Python 3"
    },
    "language_info": {
      "name": "python"
    },
    "accelerator": "GPU"
  },
  "cells": [
    {
      "cell_type": "markdown",
      "metadata": {
        "id": "view-in-github",
        "colab_type": "text"
      },
      "source": [
        "<a href=\"https://colab.research.google.com/github/O-bit-O/ML-projects/blob/main/Sentiment%20Analysis%20-%20shallow%20vs%20uniLSTM%20vs%20biLSTM/Sentiment_analysis_shallow_vs_uniLSTM_vs_biLSTM.ipynb\" target=\"_parent\"><img src=\"https://colab.research.google.com/assets/colab-badge.svg\" alt=\"Open In Colab\"/></a>"
      ]
    },
    {
      "cell_type": "code",
      "source": [
        "!pip install google-colab\n",
        "\n",
        "# Import the library\n",
        "from google.colab import drive\n",
        "\n",
        "# Mount Google Drive\n",
        "drive.mount('/content/gdrive')"
      ],
      "metadata": {
        "id": "aUGBE51h0sPF"
      },
      "execution_count": null,
      "outputs": []
    },
    {
      "cell_type": "code",
      "source": [
        "#import libraries\n",
        "import pandas as pd\n",
        "import numpy as np\n",
        "from sklearn.model_selection import train_test_split\n",
        "from sklearn.preprocessing import LabelEncoder\n",
        "from tensorflow.keras.preprocessing.text import Tokenizer\n",
        "from tensorflow.keras.preprocessing.sequence import pad_sequences\n",
        "from tensorflow.keras.models import Sequential\n",
        "from tensorflow.keras.layers import Embedding, LSTM, Bidirectional, Dense"
      ],
      "metadata": {
        "id": "TdjDMHt355FT"
      },
      "execution_count": null,
      "outputs": []
    },
    {
      "cell_type": "code",
      "source": [
        "# Step 1: Load the dataset\n",
        "df = pd.read_csv('/content/gdrive/MyDrive/440 dataset/IMDB Dataset.csv')  # Replace with the actual path to dataset\n",
        "\n",
        "# Step 2: Convert string labels to numerical values\n",
        "label_encoder = LabelEncoder()\n",
        "df['sentiment'] = label_encoder.fit_transform(df['sentiment'])\n",
        "\n",
        "# Step 3: Use GloVe for word embeddings\n",
        "embedding_dim = 100\n",
        "glove_path = '/content/gdrive/MyDrive/440 dataset/glove.6B.100d.txt'  # Replace with the actual path to GloVe file\n",
        "\n",
        "# Load GloVe embeddings into a dictionary\n",
        "embedding_index = {}\n",
        "with open(glove_path, encoding='utf-8') as f:\n",
        "    for line in f:\n",
        "        values = line.split()\n",
        "        word = values[0]\n",
        "        coefs = np.asarray(values[1:], dtype='float32')\n",
        "        embedding_index[word] = coefs\n",
        "\n",
        "# Create a matrix with GloVe embeddings for our dataset words\n",
        "tokenizer = Tokenizer()\n",
        "tokenizer.fit_on_texts(df['review'])\n",
        "vocab_size = len(tokenizer.word_index) + 1\n",
        "embedding_matrix = np.zeros((vocab_size, embedding_dim))\n",
        "\n",
        "for word, i in tokenizer.word_index.items():\n",
        "    embedding_vector = embedding_index.get(word)\n",
        "    if embedding_vector is not None:\n",
        "        embedding_matrix[i] = embedding_vector"
      ],
      "metadata": {
        "id": "MwLrcLoG6ClL"
      },
      "execution_count": null,
      "outputs": []
    },
    {
      "cell_type": "code",
      "source": [
        "# Step 4: Split the data into training and testing sets\n",
        "X = tokenizer.texts_to_sequences(df['review'])\n",
        "X = pad_sequences(X)\n",
        "y = df['sentiment']\n",
        "\n",
        "X_train, X_test, y_train, y_test = train_test_split(X, y, test_size=0.2, random_state=42)"
      ],
      "metadata": {
        "id": "ngVnhSpL6WY6"
      },
      "execution_count": null,
      "outputs": []
    },
    {
      "cell_type": "code",
      "source": [
        "# Step 4: Train a basic model\n",
        "\n",
        "model_basic = Sequential([\n",
        "    Embedding(input_dim=vocab_size, output_dim=embedding_dim, weights=[embedding_matrix], input_length=X.shape[1]),\n",
        "    Dense(1, activation='sigmoid')\n",
        "])\n",
        "\n",
        "model_basic.compile(loss='binary_crossentropy', optimizer='adam', metrics=['accuracy'])\n",
        "model_basic.fit(X_train, y_train, epochs=20, batch_size=64, validation_data=(X_test, y_test))\n",
        "\n",
        "# Evaluate the model on the test set\n",
        "loss, accuracy = model_basic.evaluate(X_test, y_test)\n",
        "\n",
        "# Print the accuracy\n",
        "print(f'Test Accuracy: {accuracy}')"
      ],
      "metadata": {
        "colab": {
          "base_uri": "https://localhost:8080/"
        },
        "id": "p1ZF5kyM6bSK",
        "outputId": "5d168615-52ff-4fb5-a35e-b42593553cb2"
      },
      "execution_count": null,
      "outputs": [
        {
          "output_type": "stream",
          "name": "stdout",
          "text": [
            "Epoch 1/20\n",
            "625/625 [==============================] - 59s 93ms/step - loss: 0.6929 - accuracy: 0.5000 - val_loss: 0.6921 - val_accuracy: 0.5015\n",
            "Epoch 2/20\n",
            "625/625 [==============================] - 33s 53ms/step - loss: 0.6921 - accuracy: 0.5054 - val_loss: 0.6920 - val_accuracy: 0.5019\n",
            "Epoch 3/20\n",
            "625/625 [==============================] - 23s 37ms/step - loss: 0.6919 - accuracy: 0.5076 - val_loss: 0.6921 - val_accuracy: 0.5020\n",
            "Epoch 4/20\n",
            "625/625 [==============================] - 17s 27ms/step - loss: 0.6918 - accuracy: 0.5037 - val_loss: 0.6920 - val_accuracy: 0.5018\n",
            "Epoch 5/20\n",
            "625/625 [==============================] - 14s 23ms/step - loss: 0.6917 - accuracy: 0.5019 - val_loss: 0.6922 - val_accuracy: 0.5011\n",
            "Epoch 6/20\n",
            "625/625 [==============================] - 13s 21ms/step - loss: 0.6917 - accuracy: 0.5076 - val_loss: 0.6921 - val_accuracy: 0.5019\n",
            "Epoch 7/20\n",
            "625/625 [==============================] - 11s 18ms/step - loss: 0.6917 - accuracy: 0.5053 - val_loss: 0.6922 - val_accuracy: 0.5019\n",
            "Epoch 8/20\n",
            "625/625 [==============================] - 11s 17ms/step - loss: 0.6916 - accuracy: 0.5042 - val_loss: 0.6918 - val_accuracy: 0.5087\n",
            "Epoch 9/20\n",
            "625/625 [==============================] - 10s 16ms/step - loss: 0.6915 - accuracy: 0.5061 - val_loss: 0.6917 - val_accuracy: 0.5090\n",
            "Epoch 10/20\n",
            "625/625 [==============================] - 9s 15ms/step - loss: 0.6915 - accuracy: 0.5054 - val_loss: 0.6920 - val_accuracy: 0.5017\n",
            "Epoch 11/20\n",
            "625/625 [==============================] - 9s 15ms/step - loss: 0.6914 - accuracy: 0.5063 - val_loss: 0.6922 - val_accuracy: 0.5021\n",
            "Epoch 12/20\n",
            "625/625 [==============================] - 9s 15ms/step - loss: 0.6915 - accuracy: 0.5063 - val_loss: 0.6920 - val_accuracy: 0.5085\n",
            "Epoch 13/20\n",
            "625/625 [==============================] - 9s 14ms/step - loss: 0.6915 - accuracy: 0.5001 - val_loss: 0.6917 - val_accuracy: 0.5090\n",
            "Epoch 14/20\n",
            "625/625 [==============================] - 7s 11ms/step - loss: 0.6914 - accuracy: 0.5060 - val_loss: 0.6919 - val_accuracy: 0.5018\n",
            "Epoch 15/20\n",
            "625/625 [==============================] - 8s 13ms/step - loss: 0.6914 - accuracy: 0.5053 - val_loss: 0.6918 - val_accuracy: 0.5022\n",
            "Epoch 16/20\n",
            "625/625 [==============================] - 7s 11ms/step - loss: 0.6913 - accuracy: 0.5059 - val_loss: 0.6917 - val_accuracy: 0.5090\n",
            "Epoch 17/20\n",
            "625/625 [==============================] - 8s 13ms/step - loss: 0.6913 - accuracy: 0.5079 - val_loss: 0.6918 - val_accuracy: 0.5020\n",
            "Epoch 18/20\n",
            "625/625 [==============================] - 7s 12ms/step - loss: 0.6913 - accuracy: 0.5062 - val_loss: 0.6917 - val_accuracy: 0.5089\n",
            "Epoch 19/20\n",
            "625/625 [==============================] - 8s 13ms/step - loss: 0.6913 - accuracy: 0.5047 - val_loss: 0.6918 - val_accuracy: 0.5021\n",
            "Epoch 20/20\n",
            "625/625 [==============================] - 7s 12ms/step - loss: 0.6913 - accuracy: 0.5061 - val_loss: 0.6918 - val_accuracy: 0.5090\n",
            "313/313 [==============================] - 1s 3ms/step - loss: 0.6918 - accuracy: 0.5090\n",
            "Test Accuracy: 0.508987545967102\n"
          ]
        }
      ]
    },
    {
      "cell_type": "code",
      "source": [
        "# Step 5: Train the shallow model\n",
        "model_shallow = Sequential([\n",
        "    Embedding(input_dim=vocab_size, output_dim=100, weights=[embedding_matrix], input_length=X.shape[1]),\n",
        "    Dense(10, activation='relu'),\n",
        "    Dense(1, activation='sigmoid')\n",
        "])\n",
        "\n",
        "model_shallow.compile(loss='binary_crossentropy', optimizer='adam', metrics=['accuracy'])\n",
        "model_shallow.fit(X_train, y_train, epochs=20, batch_size=64, validation_data=(X_test, y_test))\n",
        "\n",
        "# Evaluate the model on the test set\n",
        "loss, accuracy = model_shallow.evaluate(X_test, y_test)\n",
        "\n",
        "# Print the accuracy\n",
        "print(f'Test Accuracy: {accuracy}')\n",
        "print(f'Test loss: {loss}')"
      ],
      "metadata": {
        "colab": {
          "base_uri": "https://localhost:8080/"
        },
        "id": "xO7sP50X_qkg",
        "outputId": "9fdbb90b-8fd3-40c7-9fd3-bb43ab05fc05"
      },
      "execution_count": null,
      "outputs": [
        {
          "output_type": "stream",
          "name": "stdout",
          "text": [
            "Epoch 1/20\n",
            "625/625 [==============================] - 66s 104ms/step - loss: 0.6926 - accuracy: 0.5009 - val_loss: 0.6921 - val_accuracy: 0.5017\n",
            "Epoch 2/20\n",
            "625/625 [==============================] - 40s 64ms/step - loss: 0.6920 - accuracy: 0.5036 - val_loss: 0.6919 - val_accuracy: 0.5018\n",
            "Epoch 3/20\n",
            "625/625 [==============================] - 27s 42ms/step - loss: 0.6918 - accuracy: 0.5037 - val_loss: 0.6918 - val_accuracy: 0.5020\n",
            "Epoch 4/20\n",
            "625/625 [==============================] - 17s 26ms/step - loss: 0.6917 - accuracy: 0.5030 - val_loss: 0.6921 - val_accuracy: 0.5008\n",
            "Epoch 5/20\n",
            "625/625 [==============================] - 15s 24ms/step - loss: 0.6916 - accuracy: 0.5055 - val_loss: 0.6920 - val_accuracy: 0.5015\n",
            "Epoch 6/20\n",
            "625/625 [==============================] - 12s 19ms/step - loss: 0.6915 - accuracy: 0.5060 - val_loss: 0.6917 - val_accuracy: 0.5021\n",
            "Epoch 7/20\n",
            "625/625 [==============================] - 11s 17ms/step - loss: 0.6914 - accuracy: 0.5037 - val_loss: 0.6919 - val_accuracy: 0.5017\n",
            "Epoch 8/20\n",
            "625/625 [==============================] - 10s 16ms/step - loss: 0.6913 - accuracy: 0.5057 - val_loss: 0.6918 - val_accuracy: 0.5017\n",
            "Epoch 9/20\n",
            "625/625 [==============================] - 11s 17ms/step - loss: 0.6913 - accuracy: 0.5047 - val_loss: 0.6918 - val_accuracy: 0.5020\n",
            "Epoch 10/20\n",
            "625/625 [==============================] - 10s 16ms/step - loss: 0.6912 - accuracy: 0.5037 - val_loss: 0.6919 - val_accuracy: 0.5020\n",
            "Epoch 11/20\n",
            "625/625 [==============================] - 9s 15ms/step - loss: 0.6912 - accuracy: 0.5062 - val_loss: 0.6920 - val_accuracy: 0.5018\n",
            "Epoch 12/20\n",
            "625/625 [==============================] - 10s 17ms/step - loss: 0.6911 - accuracy: 0.5050 - val_loss: 0.6919 - val_accuracy: 0.5021\n",
            "Epoch 13/20\n",
            "625/625 [==============================] - 10s 16ms/step - loss: 0.6911 - accuracy: 0.5053 - val_loss: 0.6920 - val_accuracy: 0.5018\n",
            "Epoch 14/20\n",
            "625/625 [==============================] - 9s 14ms/step - loss: 0.6910 - accuracy: 0.5052 - val_loss: 0.6921 - val_accuracy: 0.5012\n",
            "Epoch 15/20\n",
            "625/625 [==============================] - 9s 15ms/step - loss: 0.6910 - accuracy: 0.5072 - val_loss: 0.6920 - val_accuracy: 0.5020\n",
            "Epoch 16/20\n",
            "625/625 [==============================] - 8s 14ms/step - loss: 0.6910 - accuracy: 0.5041 - val_loss: 0.6920 - val_accuracy: 0.5021\n",
            "Epoch 17/20\n",
            "625/625 [==============================] - 8s 13ms/step - loss: 0.6910 - accuracy: 0.5075 - val_loss: 0.6920 - val_accuracy: 0.5089\n",
            "Epoch 18/20\n",
            "625/625 [==============================] - 9s 15ms/step - loss: 0.6909 - accuracy: 0.5045 - val_loss: 0.6921 - val_accuracy: 0.5018\n",
            "Epoch 19/20\n",
            "625/625 [==============================] - 7s 12ms/step - loss: 0.6909 - accuracy: 0.5048 - val_loss: 0.6921 - val_accuracy: 0.5018\n",
            "Epoch 20/20\n",
            "625/625 [==============================] - 8s 14ms/step - loss: 0.6909 - accuracy: 0.5053 - val_loss: 0.6921 - val_accuracy: 0.5090\n",
            "313/313 [==============================] - 1s 4ms/step - loss: 0.6921 - accuracy: 0.5090\n",
            "Test Accuracy: 0.5089896321296692\n",
            "Test loss: 0.6920503973960876\n"
          ]
        }
      ]
    },
    {
      "cell_type": "code",
      "source": [
        "model_lstm_unidirectional = Sequential([\n",
        "    Embedding(input_dim=vocab_size, output_dim=embedding_dim, weights=[embedding_matrix], input_length=X.shape[1]),\n",
        "    LSTM(100),\n",
        "    Dense(1, activation='sigmoid')\n",
        "])\n",
        "\n",
        "model_lstm_unidirectional.compile(loss='binary_crossentropy', optimizer='adam', metrics=['accuracy'])\n",
        "model_lstm_unidirectional.fit(X_train, y_train, epochs=20, batch_size=64, validation_data=(X_test, y_test))\n",
        "# Evaluate the model on the test set\n",
        "loss, accuracy = model_lstm_unidirectional.evaluate(X_test, y_test)\n",
        "\n",
        "# Print the accuracy\n",
        "print(f'Test Accuracy: {accuracy}')\n",
        "print(f'Test loss: {loss}')\n"
      ],
      "metadata": {
        "colab": {
          "base_uri": "https://localhost:8080/"
        },
        "id": "NLQ7DnIsE9IX",
        "outputId": "db232dc3-81e3-4b7e-d85a-fb0cb450a8e9"
      },
      "execution_count": null,
      "outputs": [
        {
          "output_type": "stream",
          "name": "stdout",
          "text": [
            "Epoch 1/20\n",
            "625/625 [==============================] - 117s 182ms/step - loss: 0.5207 - accuracy: 0.7435 - val_loss: 0.3434 - val_accuracy: 0.8671\n",
            "Epoch 2/20\n",
            "625/625 [==============================] - 84s 135ms/step - loss: 0.2524 - accuracy: 0.9001 - val_loss: 0.2498 - val_accuracy: 0.8982\n",
            "Epoch 3/20\n",
            "625/625 [==============================] - 75s 120ms/step - loss: 0.1243 - accuracy: 0.9571 - val_loss: 0.2865 - val_accuracy: 0.8930\n",
            "Epoch 4/20\n",
            "625/625 [==============================] - 71s 114ms/step - loss: 0.0520 - accuracy: 0.9837 - val_loss: 0.3520 - val_accuracy: 0.8886\n",
            "Epoch 5/20\n",
            "625/625 [==============================] - 74s 118ms/step - loss: 0.0194 - accuracy: 0.9949 - val_loss: 0.4618 - val_accuracy: 0.8790\n",
            "Epoch 6/20\n",
            "625/625 [==============================] - 74s 118ms/step - loss: 0.0085 - accuracy: 0.9980 - val_loss: 0.5355 - val_accuracy: 0.8789\n",
            "Epoch 7/20\n",
            "625/625 [==============================] - 70s 112ms/step - loss: 0.0050 - accuracy: 0.9990 - val_loss: 0.6299 - val_accuracy: 0.8741\n",
            "Epoch 8/20\n",
            "625/625 [==============================] - 70s 112ms/step - loss: 0.0024 - accuracy: 0.9995 - val_loss: 0.7120 - val_accuracy: 0.8730\n",
            "Epoch 9/20\n",
            "625/625 [==============================] - 64s 103ms/step - loss: 0.0031 - accuracy: 0.9993 - val_loss: 0.6282 - val_accuracy: 0.8678\n",
            "Epoch 10/20\n",
            "625/625 [==============================] - 70s 112ms/step - loss: 0.0014 - accuracy: 0.9996 - val_loss: 0.8560 - val_accuracy: 0.8741\n",
            "Epoch 11/20\n",
            "625/625 [==============================] - 64s 103ms/step - loss: 0.0031 - accuracy: 0.9991 - val_loss: 0.7276 - val_accuracy: 0.8669\n",
            "Epoch 12/20\n",
            "625/625 [==============================] - 64s 102ms/step - loss: 0.0017 - accuracy: 0.9995 - val_loss: 0.8466 - val_accuracy: 0.8693\n",
            "Epoch 13/20\n",
            "625/625 [==============================] - 66s 106ms/step - loss: 7.2400e-04 - accuracy: 0.9998 - val_loss: 0.9213 - val_accuracy: 0.8668\n",
            "Epoch 14/20\n",
            "625/625 [==============================] - 68s 109ms/step - loss: 3.6751e-05 - accuracy: 1.0000 - val_loss: 0.9976 - val_accuracy: 0.8667\n",
            "Epoch 15/20\n",
            "625/625 [==============================] - 68s 109ms/step - loss: 1.5524e-05 - accuracy: 1.0000 - val_loss: 1.0779 - val_accuracy: 0.8664\n",
            "Epoch 16/20\n",
            "625/625 [==============================] - 65s 103ms/step - loss: 9.2380e-06 - accuracy: 1.0000 - val_loss: 1.1342 - val_accuracy: 0.8657\n",
            "Epoch 17/20\n",
            "625/625 [==============================] - 69s 110ms/step - loss: 5.8925e-06 - accuracy: 1.0000 - val_loss: 1.1889 - val_accuracy: 0.8645\n",
            "Epoch 18/20\n",
            "625/625 [==============================] - 69s 110ms/step - loss: 3.9620e-06 - accuracy: 1.0000 - val_loss: 1.2365 - val_accuracy: 0.8647\n",
            "Epoch 19/20\n",
            "625/625 [==============================] - 64s 102ms/step - loss: 2.6674e-06 - accuracy: 1.0000 - val_loss: 1.2867 - val_accuracy: 0.8635\n",
            "Epoch 20/20\n",
            "625/625 [==============================] - 70s 112ms/step - loss: 1.8536e-06 - accuracy: 1.0000 - val_loss: 1.3341 - val_accuracy: 0.8630\n",
            "313/313 [==============================] - 11s 34ms/step - loss: 1.3341 - accuracy: 0.8630\n",
            "Test Accuracy: 0.8629999756813049\n",
            "Test loss: 1.3340963125228882\n"
          ]
        }
      ]
    },
    {
      "cell_type": "code",
      "source": [
        "model_lstm_bidirectional = Sequential([\n",
        "    Embedding(input_dim=vocab_size, output_dim=embedding_dim, weights=[embedding_matrix], input_length=X.shape[1]),\n",
        "    Bidirectional(LSTM(100)),\n",
        "    Dense(1, activation='sigmoid')\n",
        "])\n",
        "\n",
        "model_lstm_bidirectional.compile(loss='binary_crossentropy', optimizer='adam', metrics=['accuracy'])\n",
        "model_lstm_bidirectional.fit(X_train, y_train, epochs=20, batch_size=64, validation_data=(X_test, y_test))\n",
        "# Evaluate the model on the test set\n",
        "loss, accuracy = model_lstm_bidirectional.evaluate(X_test, y_test)\n",
        "\n",
        "# Print the accuracy\n",
        "print(f'Test Accuracy: {accuracy}')\n",
        "print(f'Test loss: {loss}')"
      ],
      "metadata": {
        "colab": {
          "base_uri": "https://localhost:8080/"
        },
        "id": "lnbDKxAyFIaH",
        "outputId": "fd330241-b33d-406d-fc5b-b64623ca57d1"
      },
      "execution_count": null,
      "outputs": [
        {
          "output_type": "stream",
          "name": "stdout",
          "text": [
            "Epoch 1/20\n",
            "625/625 [==============================] - 160s 250ms/step - loss: 0.4483 - accuracy: 0.7904 - val_loss: 0.2876 - val_accuracy: 0.8842\n",
            "Epoch 2/20\n",
            "625/625 [==============================] - 149s 239ms/step - loss: 0.2110 - accuracy: 0.9202 - val_loss: 0.2334 - val_accuracy: 0.9073\n",
            "Epoch 3/20\n",
            "625/625 [==============================] - 131s 209ms/step - loss: 0.1009 - accuracy: 0.9668 - val_loss: 0.2710 - val_accuracy: 0.9011\n",
            "Epoch 4/20\n",
            "625/625 [==============================] - 135s 217ms/step - loss: 0.0419 - accuracy: 0.9882 - val_loss: 0.3581 - val_accuracy: 0.8884\n",
            "Epoch 5/20\n",
            "625/625 [==============================] - 131s 210ms/step - loss: 0.0172 - accuracy: 0.9959 - val_loss: 0.4201 - val_accuracy: 0.8943\n",
            "Epoch 6/20\n",
            "625/625 [==============================] - 132s 212ms/step - loss: 0.0076 - accuracy: 0.9982 - val_loss: 0.5863 - val_accuracy: 0.8871\n",
            "Epoch 7/20\n",
            "625/625 [==============================] - 122s 194ms/step - loss: 0.0030 - accuracy: 0.9993 - val_loss: 0.6755 - val_accuracy: 0.8806\n",
            "Epoch 8/20\n",
            "625/625 [==============================] - 129s 207ms/step - loss: 0.0026 - accuracy: 0.9993 - val_loss: 0.6818 - val_accuracy: 0.8849\n",
            "Epoch 9/20\n",
            "625/625 [==============================] - 130s 208ms/step - loss: 0.0022 - accuracy: 0.9994 - val_loss: 0.7178 - val_accuracy: 0.8824\n",
            "Epoch 10/20\n",
            "625/625 [==============================] - 130s 207ms/step - loss: 0.0022 - accuracy: 0.9995 - val_loss: 0.8027 - val_accuracy: 0.8812\n",
            "Epoch 11/20\n",
            "625/625 [==============================] - 128s 205ms/step - loss: 0.0010 - accuracy: 0.9997 - val_loss: 0.8748 - val_accuracy: 0.8774\n",
            "Epoch 12/20\n",
            "625/625 [==============================] - 118s 189ms/step - loss: 1.5161e-04 - accuracy: 1.0000 - val_loss: 0.8871 - val_accuracy: 0.8810\n",
            "Epoch 13/20\n",
            "625/625 [==============================] - 128s 204ms/step - loss: 1.6710e-05 - accuracy: 1.0000 - val_loss: 0.9696 - val_accuracy: 0.8817\n",
            "Epoch 14/20\n",
            "625/625 [==============================] - 129s 207ms/step - loss: 7.6821e-06 - accuracy: 1.0000 - val_loss: 1.0450 - val_accuracy: 0.8807\n",
            "Epoch 15/20\n",
            "625/625 [==============================] - 127s 204ms/step - loss: 4.6287e-06 - accuracy: 1.0000 - val_loss: 1.1026 - val_accuracy: 0.8805\n",
            "Epoch 16/20\n",
            "625/625 [==============================] - 127s 203ms/step - loss: 3.0771e-06 - accuracy: 1.0000 - val_loss: 1.1458 - val_accuracy: 0.8797\n",
            "Epoch 17/20\n",
            "625/625 [==============================] - 127s 202ms/step - loss: 2.0210e-06 - accuracy: 1.0000 - val_loss: 1.1972 - val_accuracy: 0.8795\n",
            "Epoch 18/20\n",
            "625/625 [==============================] - 129s 207ms/step - loss: 1.3952e-06 - accuracy: 1.0000 - val_loss: 1.2417 - val_accuracy: 0.8784\n",
            "Epoch 19/20\n",
            "625/625 [==============================] - 127s 202ms/step - loss: 9.7148e-07 - accuracy: 1.0000 - val_loss: 1.2892 - val_accuracy: 0.8773\n",
            "Epoch 20/20\n",
            "625/625 [==============================] - 126s 202ms/step - loss: 6.8196e-07 - accuracy: 1.0000 - val_loss: 1.3348 - val_accuracy: 0.8770\n",
            "313/313 [==============================] - 20s 62ms/step - loss: 1.3348 - accuracy: 0.8770\n",
            "Test Accuracy: 0.8769999742507935\n",
            "Test loss: 1.3347548246383667\n"
          ]
        }
      ]
    }
  ]
}